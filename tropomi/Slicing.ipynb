{
 "cells": [
  {
   "cell_type": "code",
   "execution_count": 52,
   "metadata": {},
   "outputs": [
    {
     "name": "stdout",
     "output_type": "stream",
     "text": [
      "(5, 5)\n",
      "205\n",
      "0\n",
      "h 0\n",
      "270\n",
      "2\n",
      "1\n"
     ]
    }
   ],
   "source": [
    "import numpy as np\n",
    "data = np.zeros((1025, 1352))\n",
    "\n",
    "#We are going to use windows of the following size\n",
    "size = 5\n",
    "window_size = (size, size)\n",
    "print(window_size)\n",
    "\n",
    "#Horizontally it fits the following number of times:\n",
    "h_slices = data.shape[0]//window_size[0]\n",
    "print(h_slices)\n",
    "\n",
    "#This is what's left horizontally:\n",
    "h_rest = data.shape[0]%window_size[0]\n",
    "print(h_rest)\n",
    "\n",
    "#How much the horizontal windows are offset\n",
    "h_offset = h_rest//2\n",
    "print(\"h\",h_offset)\n",
    "\n",
    "#Vertically it fits the following number of times:\n",
    "v_slices = data.shape[1]//window_size[1]\n",
    "print(v_slices)\n",
    "\n",
    "#This is what's left vertically:\n",
    "v_rest = data.shape[1]%window_size[1]\n",
    "print(v_rest)\n",
    "\n",
    "#How much the vertical windows are offset\n",
    "v_offset = v_rest//2\n",
    "print(v_offset)"
   ]
  },
  {
   "cell_type": "markdown",
   "metadata": {},
   "source": [
    "When trying to slice the whole image into pre-sized hopping windows, the dimensions might not fit perfectly\n",
    "The approach we take is as follows:\n",
    "If the rest is even: take as many full windows possible from the middle\n",
    "If the rest is uneven: prefer the end window"
   ]
  },
  {
   "cell_type": "code",
   "execution_count": 54,
   "metadata": {},
   "outputs": [
    {
     "name": "stdout",
     "output_type": "stream",
     "text": [
      "(205, 270, 5, 5)\n"
     ]
    }
   ],
   "source": [
    "sliced_data = np.zeros((h_slices, v_slices, window_size[0], window_size[1]))\n",
    "for i in range(h_slices):\n",
    "    for j in range(v_slices):\n",
    "        #Take a slice and store it in the sliced dataset\n",
    "        sliced_data[i, j] = data[i*window_size[0]+h_offset:(i+1)*window_size[0]+h_offset, j*window_size[1]+v_offset:(j+1)*window_size[1]+v_offset]\n",
    "        \n",
    "print(sliced_data.shape)"
   ]
  },
  {
   "cell_type": "code",
   "execution_count": null,
   "metadata": {},
   "outputs": [],
   "source": []
  }
 ],
 "metadata": {
  "kernelspec": {
   "display_name": "Python 3",
   "language": "python",
   "name": "python3"
  },
  "language_info": {
   "codemirror_mode": {
    "name": "ipython",
    "version": 3
   },
   "file_extension": ".py",
   "mimetype": "text/x-python",
   "name": "python",
   "nbconvert_exporter": "python",
   "pygments_lexer": "ipython3",
   "version": "3.7.6"
  }
 },
 "nbformat": 4,
 "nbformat_minor": 4
}
