{
 "cells": [
  {
   "cell_type": "code",
   "execution_count": 1,
   "metadata": {},
   "outputs": [
    {
     "name": "stdout",
     "output_type": "stream",
     "text": [
      "You entered  downloads None\n",
      "You entered  downloads None\n",
      "You entered  downloads None\n",
      "You entered  downloads None\n",
      "You entered  downloads None\n",
      "You entered  downloads None\n",
      "You entered  downloads None\n",
      "You entered  downloads None\n"
     ]
    }
   ],
   "source": [
    "import PySimpleGUI as sg\n",
    "import numpy as np\n",
    "import matplotlib.pyplot as plt\n",
    "import sys\n",
    "import random\n",
    "\n",
    "myfont = \"Ariel 16\"\n",
    "\n",
    "sg.theme('DarkAmber')   # Add a touch of color\n",
    "\"\"\"g1 = sg.Graph((200,200), (0,0), (200,200),background_color=\"blue\")\n",
    "g2 = sg.Graph((200,200), (500,500), (200,200),background_color=\"green\")\"\"\"\n",
    "\n",
    "\"\"\"if len(sys.argv) &gt; 1: # if there is use the Web Interface\n",
    "    mode = \"web\"\n",
    "    mysize = (20,2)\n",
    "else: # default uses the tkinter GUI\n",
    "    \n",
    "    mode = \"tkinter\"\n",
    "    mysize = (12,1)\"\"\"\n",
    "BAR_WIDTH = 100\n",
    "BAR_SPACING = 175\n",
    "EDGE_OFFSET = 3\n",
    "GRAPH_SIZE = (500,500)\n",
    "DATA_SIZE = (500,500)\n",
    "\n",
    "mysize = (12,1)\n",
    "bcols = ['blue','red','green']\n",
    "myfont = \"Ariel 18\"\n",
    "\n",
    "graph = sg.Graph(GRAPH_SIZE, (0,0), DATA_SIZE)\n",
    "\n",
    "# All the stuff inside your window.\n",
    "layout = [  [sg.Text('TROPOMI GUI, please input your output data path:'),sg.InputText()],\n",
    "            [sg.Text('After this, press OK.')],\n",
    "            [sg.Text('Your data will be processed after pressing OK')],\n",
    "            [sg.Button('Ok'), sg.Button('Cancel')], \n",
    "            [sg.Text('TROPOMI Methane leakage results',font=myfont)],\n",
    "            [sg.Text('Leakage-day1',text_color=bcols[0],font=myfont,size= mysize ),\n",
    "             sg.Text('Leakage-day2',text_color=bcols[1],font=myfont,size= mysize ),\n",
    "             sg.Text('Leakage-day3',text_color=bcols[2],font=myfont,size= mysize)],\n",
    "            [graph] ]\n",
    "\n",
    "\"\"\"def graph():\n",
    "    random_plot = np.random.normal(200000, 25000, 5000)\n",
    "    plt.hist(random_plot)\n",
    "    plt.show()\"\"\"\n",
    "\n",
    "# Create the Window\n",
    "window = sg.Window('TROPOMI GUI', layout)\n",
    "# Event Loop to process \"events\" and get the \"values\" of the inputs\n",
    "while True:\n",
    "    event, values = window.read()\n",
    "    if event == sg.WIN_CLOSED or event == 'Cancel': # if user closes window or clicks cancel\n",
    "        break\n",
    "    print('You entered ', values[0], graph())\n",
    "    for i in range(3):\n",
    "# Random value are used. Add interface to Pi sensors here:\n",
    "        graph_value = random.randint(0, 400)\n",
    "        graph.draw_rectangle(top_left=(i * BAR_SPACING + EDGE_OFFSET, graph_value),\n",
    "        bottom_right=(i * BAR_SPACING + EDGE_OFFSET + BAR_WIDTH, 0), fill_color=bcols[i])\n",
    "        \n",
    "\n",
    "window.close()"
   ]
  },
  {
   "cell_type": "markdown",
   "metadata": {},
   "source": [
    "The GUI stills needs to map the producer and consumer to its interface. But when we run this code, we target to visualise the leakage data for last 3 days. The GUI asks for the specific savepath where it will search the files and after the consumer's processing, it will return the pictorial mode in bar graph. This code is geneating random bar garph data. Labelling needs to be done and also required explanation needs to be incorporated too."
   ]
  },
  {
   "cell_type": "code",
   "execution_count": null,
   "metadata": {},
   "outputs": [],
   "source": []
  },
  {
   "cell_type": "code",
   "execution_count": null,
   "metadata": {},
   "outputs": [],
   "source": []
  }
 ],
 "metadata": {
  "kernelspec": {
   "display_name": "Python 3",
   "language": "python",
   "name": "python3"
  },
  "language_info": {
   "codemirror_mode": {
    "name": "ipython",
    "version": 3
   },
   "file_extension": ".py",
   "mimetype": "text/x-python",
   "name": "python",
   "nbconvert_exporter": "python",
   "pygments_lexer": "ipython3",
   "version": "3.7.6"
  }
 },
 "nbformat": 4,
 "nbformat_minor": 4
}
